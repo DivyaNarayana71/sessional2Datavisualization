{
 "cells": [
  {
   "cell_type": "code",
   "execution_count": 99,
   "metadata": {},
   "outputs": [],
   "source": [
    "from pandas import DataFrame\n",
    "import pandas as pd\n"
   ]
  },
  {
   "cell_type": "code",
   "execution_count": 5,
   "metadata": {},
   "outputs": [
    {
     "data": {
      "text/html": [
       "<div>\n",
       "<style>\n",
       "    .dataframe thead tr:only-child th {\n",
       "        text-align: right;\n",
       "    }\n",
       "\n",
       "    .dataframe thead th {\n",
       "        text-align: left;\n",
       "    }\n",
       "\n",
       "    .dataframe tbody tr th {\n",
       "        vertical-align: top;\n",
       "    }\n",
       "</style>\n",
       "<table border=\"1\" class=\"dataframe\">\n",
       "  <thead>\n",
       "    <tr style=\"text-align: right;\">\n",
       "      <th></th>\n",
       "      <th>Region</th>\n",
       "      <th>Country/ Region</th>\n",
       "      <th>2010</th>\n",
       "      <th>2011</th>\n",
       "      <th>2012</th>\n",
       "      <th>2013</th>\n",
       "      <th>2014</th>\n",
       "      <th>2015</th>\n",
       "      <th>2016</th>\n",
       "    </tr>\n",
       "  </thead>\n",
       "  <tbody>\n",
       "    <tr>\n",
       "      <th>0</th>\n",
       "      <td>North America</td>\n",
       "      <td>US</td>\n",
       "      <td>34.990</td>\n",
       "      <td>39.775</td>\n",
       "      <td>44.180</td>\n",
       "      <td>48.463</td>\n",
       "      <td>54.962</td>\n",
       "      <td>47.987</td>\n",
       "      <td>47.987</td>\n",
       "    </tr>\n",
       "    <tr>\n",
       "      <th>1</th>\n",
       "      <td>North America</td>\n",
       "      <td>Canada</td>\n",
       "      <td>174.848</td>\n",
       "      <td>174.177</td>\n",
       "      <td>173.716</td>\n",
       "      <td>173.038</td>\n",
       "      <td>172.156</td>\n",
       "      <td>171.512</td>\n",
       "      <td>171.512</td>\n",
       "    </tr>\n",
       "    <tr>\n",
       "      <th>2</th>\n",
       "      <td>North America</td>\n",
       "      <td>Mexico</td>\n",
       "      <td>11.691</td>\n",
       "      <td>11.394</td>\n",
       "      <td>11.424</td>\n",
       "      <td>11.079</td>\n",
       "      <td>10.816</td>\n",
       "      <td>7.977</td>\n",
       "      <td>7.977</td>\n",
       "    </tr>\n",
       "    <tr>\n",
       "      <th>3</th>\n",
       "      <td>S. &amp; Cent. America</td>\n",
       "      <td>Argentina</td>\n",
       "      <td>2.524</td>\n",
       "      <td>2.525</td>\n",
       "      <td>2.354</td>\n",
       "      <td>2.330</td>\n",
       "      <td>2.380</td>\n",
       "      <td>2.395</td>\n",
       "      <td>2.395</td>\n",
       "    </tr>\n",
       "    <tr>\n",
       "      <th>4</th>\n",
       "      <td>S. &amp; Cent. America</td>\n",
       "      <td>Brazil</td>\n",
       "      <td>14.246</td>\n",
       "      <td>15.050</td>\n",
       "      <td>15.314</td>\n",
       "      <td>15.593</td>\n",
       "      <td>16.184</td>\n",
       "      <td>13.000</td>\n",
       "      <td>12.634</td>\n",
       "    </tr>\n",
       "  </tbody>\n",
       "</table>\n",
       "</div>"
      ],
      "text/plain": [
       "               Region Country/ Region     2010     2011     2012     2013  \\\n",
       "0       North America              US   34.990   39.775   44.180   48.463   \n",
       "1       North America          Canada  174.848  174.177  173.716  173.038   \n",
       "2       North America          Mexico   11.691   11.394   11.424   11.079   \n",
       "3  S. & Cent. America       Argentina    2.524    2.525    2.354    2.330   \n",
       "4  S. & Cent. America          Brazil   14.246   15.050   15.314   15.593   \n",
       "\n",
       "      2014     2015     2016  \n",
       "0   54.962   47.987   47.987  \n",
       "1  172.156  171.512  171.512  \n",
       "2   10.816    7.977    7.977  \n",
       "3    2.380    2.395    2.395  \n",
       "4   16.184   13.000   12.634  "
      ]
     },
     "execution_count": 5,
     "metadata": {},
     "output_type": "execute_result"
    }
   ],
   "source": [
    "oilre = pd.read_csv('oil_reserves.csv')\n",
    "oilre = oilre.applymap(lambda x: x.strip() if isinstance(x,str) else x)\n",
    "oilre.head()"
   ]
  },
  {
   "cell_type": "code",
   "execution_count": 59,
   "metadata": {},
   "outputs": [
    {
     "data": {
      "text/html": [
       "<div>\n",
       "<style>\n",
       "    .dataframe thead tr:only-child th {\n",
       "        text-align: right;\n",
       "    }\n",
       "\n",
       "    .dataframe thead th {\n",
       "        text-align: left;\n",
       "    }\n",
       "\n",
       "    .dataframe tbody tr th {\n",
       "        vertical-align: top;\n",
       "    }\n",
       "</style>\n",
       "<table border=\"1\" class=\"dataframe\">\n",
       "  <thead>\n",
       "    <tr style=\"text-align: right;\">\n",
       "      <th></th>\n",
       "      <th>Region</th>\n",
       "      <th>mean</th>\n",
       "    </tr>\n",
       "  </thead>\n",
       "  <tbody>\n",
       "    <tr>\n",
       "      <th>9</th>\n",
       "      <td>S. &amp; Cent. America</td>\n",
       "      <td>300.603</td>\n",
       "    </tr>\n",
       "  </tbody>\n",
       "</table>\n",
       "</div>"
      ],
      "text/plain": [
       "               Region     mean\n",
       "9  S. & Cent. America  300.603"
      ]
     },
     "execution_count": 59,
     "metadata": {},
     "output_type": "execute_result"
    }
   ],
   "source": [
    "# Which region has max oil reserves from 2014 to 2016?\n",
    "\n",
    "df1 = oilre.iloc[:,-3:]\n",
    "df1['mean'] = df1.mean(axis=1)\n",
    "df2 = oilre['Region']\n",
    "result = pd.merge(df1, oilre, on='2014')\n",
    "result[result[\"mean\"] == result[\"mean\"].max()][['Region','mean']]"
   ]
  },
  {
   "cell_type": "code",
   "execution_count": 103,
   "metadata": {},
   "outputs": [
    {
     "name": "stdout",
     "output_type": "stream",
     "text": [
      "[[5.832999999999999, 5.704, 5.72, 5.711, 5.742999999999999, 4.7860000000000005, 4.677]]\n"
     ]
    },
    {
     "data": {
      "image/png": "[encoded data removed]",
      "text/plain": [
       "<matplotlib.figure.Figure at 0x7f223e2697b8>"
      ]
     },
     "metadata": {},
     "output_type": "display_data"
    }
   ],
   "source": [
    "# With suitable visualization show the oil reserves of India from 2010 to 2016.\n",
    "import matplotlib.pyplot as plt\n",
    "import numpy as np\n",
    "\n",
    "df1 = oilre.loc[oilre['Country/ Region'] == \"India\"]\n",
    "df2 = df1.loc[:,'2010':'2016'].values\n",
    "list=[]\n",
    "a = np.array(df2).tolist()\n",
    "for i in a:\n",
    "    list.append(i)\n",
    "print(list )\n",
    "# plt.pie(list,startangle=90, shadow = True,radius = 1.2, autopct = '%1.1f%%')\n",
    "# plt.show()\n",
    "\n",
    "\n",
    "import matplotlib.pyplot as plt \n",
    "  \n",
    "# defining labels \n",
    "activities = ['2010', '2011', '2012','2013', '2014', '2015', '2016'] \n",
    "  \n",
    "# portion covered by each label \n",
    "slices = [5.832999999999999,5.704,5.72,5.711,5.742999999999999,4.7860000000000005,4.677]\n",
    "  \n",
    "# color for each label \n",
    "colors = ['r', 'y', 'g', 'b','r','b','g'] \n",
    "  \n",
    "# plotting the pie chart \n",
    "plt.pie(slices, labels = activities, colors=colors,  \n",
    "        startangle=90, shadow = True, explode = (0, 0, 0.1, 0,0,0,0), \n",
    "        radius = 1.2, autopct = '%1.1f%%') \n",
    "  \n",
    "# plotting legend \n",
    "plt.legend() \n",
    "  \n",
    "# showing the plot \n",
    "plt.show() \n"
   ]
  },
  {
   "cell_type": "code",
   "execution_count": 61,
   "metadata": {},
   "outputs": [
    {
     "data": {
      "text/html": [
       "<div>\n",
       "<style>\n",
       "    .dataframe thead tr:only-child th {\n",
       "        text-align: right;\n",
       "    }\n",
       "\n",
       "    .dataframe thead th {\n",
       "        text-align: left;\n",
       "    }\n",
       "\n",
       "    .dataframe tbody tr th {\n",
       "        vertical-align: top;\n",
       "    }\n",
       "</style>\n",
       "<table border=\"1\" class=\"dataframe\">\n",
       "  <thead>\n",
       "    <tr style=\"text-align: right;\">\n",
       "      <th></th>\n",
       "      <th>Region</th>\n",
       "      <th>mean</th>\n",
       "    </tr>\n",
       "  </thead>\n",
       "  <tbody>\n",
       "    <tr>\n",
       "      <th>9</th>\n",
       "      <td>S. &amp; Cent. America</td>\n",
       "      <td>300.603</td>\n",
       "    </tr>\n",
       "  </tbody>\n",
       "</table>\n",
       "</div>"
      ],
      "text/plain": [
       "               Region     mean\n",
       "9  S. & Cent. America  300.603"
      ]
     },
     "execution_count": 61,
     "metadata": {},
     "output_type": "execute_result"
    }
   ],
   "source": [
    "# List the countries having maximum oil reserves in each region\n",
    "\n",
    "df1 = oilre.iloc[:,-3:]\n",
    "df1['mean'] = df1.mean(axis=1)\n",
    "\n",
    "df2 = oilre[['Region','Country/ Region']]\n",
    "result = pd.merge(df1, oilre, on='2014')\n",
    "result[result[\"mean\"] == result[\"mean\"].max()][['Region','mean']]"
   ]
  },
  {
   "cell_type": "code",
   "execution_count": 72,
   "metadata": {},
   "outputs": [
    {
     "data": {
      "image/png": "[encoded data removed]",
      "text/plain": [
       "<matplotlib.figure.Figure at 0x7f223e372e80>"
      ]
     },
     "metadata": {},
     "output_type": "display_data"
    }
   ],
   "source": [
    "# Draw suitable visualization which shows the share of oil reserves by each region.\n",
    "oilre.set_index('Country/ Region')[['2010', '2010','2011','2012','2013','2014','2015','2016']].plot.bar()\n",
    "plt.show()"
   ]
  },
  {
   "cell_type": "code",
   "execution_count": 97,
   "metadata": {},
   "outputs": [
    {
     "data": {
      "text/plain": [
       "Region\n",
       "North America         171.512\n",
       "S. & Cent. America    300.878\n",
       "Europe & Eurasia      102.375\n",
       "Middle East           266.578\n",
       "Africa                 48.363\n",
       "Name: 2015, dtype: float64"
      ]
     },
     "execution_count": 97,
     "metadata": {},
     "output_type": "execute_result"
    }
   ],
   "source": [
    "# Find the world’s top 5 countries having maximum oil reserves in the 2015. Show their % of share in total oil reserve for the same year.\n",
    "df1 = oilre.groupby(['Region'], sort=False)['2015'].max()\n",
    "df1.head()"
   ]
  },
  {
   "cell_type": "code",
   "execution_count": 98,
   "metadata": {},
   "outputs": [
    {
     "data": {
      "image/png": "[encoded data removed]",
      "text/plain": [
       "<matplotlib.figure.Figure at 0x7f223eafe898>"
      ]
     },
     "metadata": {},
     "output_type": "display_data"
    }
   ],
   "source": [
    "# Draw any type of visualizations you know.\n",
    "x = [1,2,3,4,5,6,7,8,9,10] \n",
    "y = [2,4,5,7,6,8,9,11,12,12] \n",
    "  \n",
    "plt.scatter(x, y, label= \"stars\", color= \"green\",  \n",
    "            marker= \"*\", s=30) \n",
    "  \n",
    "plt.xlabel('x - axis') \n",
    "plt.ylabel('y - axis') \n",
    "plt.title('My scatter plot!') \n",
    "plt.legend() \n",
    "plt.show() \n"
   ]
  },
  {
   "cell_type": "code",
   "execution_count": 107,
   "metadata": {},
   "outputs": [
    {
     "data": {
      "text/html": [
       "<div>\n",
       "<style>\n",
       "    .dataframe thead tr:only-child th {\n",
       "        text-align: right;\n",
       "    }\n",
       "\n",
       "    .dataframe thead th {\n",
       "        text-align: left;\n",
       "    }\n",
       "\n",
       "    .dataframe tbody tr th {\n",
       "        vertical-align: top;\n",
       "    }\n",
       "</style>\n",
       "<table border=\"1\" class=\"dataframe\">\n",
       "  <thead>\n",
       "    <tr style=\"text-align: right;\">\n",
       "      <th></th>\n",
       "      <th>Category</th>\n",
       "      <th>State/ UT Name</th>\n",
       "      <th>Cow Milk-2010-11</th>\n",
       "      <th>Cow Milk-2011-12</th>\n",
       "      <th>Cow Milk-2013-14</th>\n",
       "      <th>Cow Milk-2014-15</th>\n",
       "      <th>Cow Milk-2015-16</th>\n",
       "      <th>Boffalo Milk-2010-11</th>\n",
       "      <th>Boffalo Milk-2011-12</th>\n",
       "      <th>Boffalo Milk-2013-14</th>\n",
       "      <th>Boffalo Milk-2014-15</th>\n",
       "      <th>Boffalo Milk-2015-16</th>\n",
       "      <th>Goat Milk-2010-11</th>\n",
       "      <th>Goat Milk-2011-12</th>\n",
       "      <th>Goat Milk-2013-14</th>\n",
       "      <th>Goat Milk-2014-15</th>\n",
       "      <th>Goat Milk-2015-16</th>\n",
       "    </tr>\n",
       "  </thead>\n",
       "  <tbody>\n",
       "    <tr>\n",
       "      <th>0</th>\n",
       "      <td>State</td>\n",
       "      <td>Andhra Pradesh</td>\n",
       "      <td>3102.0</td>\n",
       "      <td>3377.0</td>\n",
       "      <td>3799.0</td>\n",
       "      <td>3079</td>\n",
       "      <td>3369</td>\n",
       "      <td>8101.0</td>\n",
       "      <td>8710.0</td>\n",
       "      <td>9207.0</td>\n",
       "      <td>6574</td>\n",
       "      <td>7445</td>\n",
       "      <td>1.0</td>\n",
       "      <td>1.0</td>\n",
       "      <td>1.0</td>\n",
       "      <td>3</td>\n",
       "      <td>3</td>\n",
       "    </tr>\n",
       "    <tr>\n",
       "      <th>1</th>\n",
       "      <td>State</td>\n",
       "      <td>Arunachal Pradesh</td>\n",
       "      <td>28.0</td>\n",
       "      <td>22.0</td>\n",
       "      <td>43.0</td>\n",
       "      <td>46</td>\n",
       "      <td>50</td>\n",
       "      <td>NaN</td>\n",
       "      <td>NaN</td>\n",
       "      <td>0.0</td>\n",
       "      <td>0</td>\n",
       "      <td>0</td>\n",
       "      <td>NaN</td>\n",
       "      <td>NaN</td>\n",
       "      <td>NaN</td>\n",
       "      <td>0</td>\n",
       "      <td>0</td>\n",
       "    </tr>\n",
       "    <tr>\n",
       "      <th>2</th>\n",
       "      <td>State</td>\n",
       "      <td>Assam</td>\n",
       "      <td>666.0</td>\n",
       "      <td>658.0</td>\n",
       "      <td>677.0</td>\n",
       "      <td>685</td>\n",
       "      <td>703</td>\n",
       "      <td>101.0</td>\n",
       "      <td>117.0</td>\n",
       "      <td>122.0</td>\n",
       "      <td>120</td>\n",
       "      <td>117</td>\n",
       "      <td>23.0</td>\n",
       "      <td>22.0</td>\n",
       "      <td>15.0</td>\n",
       "      <td>24</td>\n",
       "      <td>24</td>\n",
       "    </tr>\n",
       "    <tr>\n",
       "      <th>3</th>\n",
       "      <td>State</td>\n",
       "      <td>Bihar</td>\n",
       "      <td>3561.0</td>\n",
       "      <td>3661.0</td>\n",
       "      <td>3986.0</td>\n",
       "      <td>4318</td>\n",
       "      <td>4881</td>\n",
       "      <td>2798.0</td>\n",
       "      <td>2805.0</td>\n",
       "      <td>3015.0</td>\n",
       "      <td>3248</td>\n",
       "      <td>3210</td>\n",
       "      <td>158.0</td>\n",
       "      <td>177.0</td>\n",
       "      <td>196.0</td>\n",
       "      <td>209</td>\n",
       "      <td>198</td>\n",
       "    </tr>\n",
       "    <tr>\n",
       "      <th>4</th>\n",
       "      <td>State</td>\n",
       "      <td>Chhattisgarh</td>\n",
       "      <td>644.0</td>\n",
       "      <td>701.0</td>\n",
       "      <td>788.0</td>\n",
       "      <td>824</td>\n",
       "      <td>919</td>\n",
       "      <td>343.0</td>\n",
       "      <td>368.0</td>\n",
       "      <td>374.0</td>\n",
       "      <td>359</td>\n",
       "      <td>311</td>\n",
       "      <td>43.0</td>\n",
       "      <td>49.0</td>\n",
       "      <td>46.0</td>\n",
       "      <td>49</td>\n",
       "      <td>48</td>\n",
       "    </tr>\n",
       "  </tbody>\n",
       "</table>\n",
       "</div>"
      ],
      "text/plain": [
       "  Category     State/ UT Name  Cow Milk-2010-11  Cow Milk-2011-12  \\\n",
       "0    State     Andhra Pradesh            3102.0            3377.0   \n",
       "1    State  Arunachal Pradesh              28.0              22.0   \n",
       "2    State              Assam             666.0             658.0   \n",
       "3    State              Bihar            3561.0            3661.0   \n",
       "4    State       Chhattisgarh             644.0             701.0   \n",
       "\n",
       "   Cow Milk-2013-14  Cow Milk-2014-15  Cow Milk-2015-16  Boffalo Milk-2010-11  \\\n",
       "0            3799.0              3079              3369                8101.0   \n",
       "1              43.0                46                50                   NaN   \n",
       "2             677.0               685               703                 101.0   \n",
       "3            3986.0              4318              4881                2798.0   \n",
       "4             788.0               824               919                 343.0   \n",
       "\n",
       "   Boffalo Milk-2011-12  Boffalo Milk-2013-14  Boffalo Milk-2014-15  \\\n",
       "0                8710.0                9207.0                  6574   \n",
       "1                   NaN                   0.0                     0   \n",
       "2                 117.0                 122.0                   120   \n",
       "3                2805.0                3015.0                  3248   \n",
       "4                 368.0                 374.0                   359   \n",
       "\n",
       "   Boffalo Milk-2015-16  Goat Milk-2010-11  Goat Milk-2011-12  \\\n",
       "0                  7445                1.0                1.0   \n",
       "1                     0                NaN                NaN   \n",
       "2                   117               23.0               22.0   \n",
       "3                  3210              158.0              177.0   \n",
       "4                   311               43.0               49.0   \n",
       "\n",
       "   Goat Milk-2013-14  Goat Milk-2014-15  Goat Milk-2015-16  \n",
       "0                1.0                  3                  3  \n",
       "1                NaN                  0                  0  \n",
       "2               15.0                 24                 24  \n",
       "3              196.0                209                198  \n",
       "4               46.0                 49                 48  "
      ]
     },
     "execution_count": 107,
     "metadata": {},
     "output_type": "execute_result"
    }
   ],
   "source": [
    "milk = pd.read_csv('milk_production(1).csv')\n",
    "milk = milk.applymap(lambda x: x.strip() if isinstance(x,str) else x)\n",
    "milk.head()"
   ]
  },
  {
   "cell_type": "code",
   "execution_count": 124,
   "metadata": {},
   "outputs": [
    {
     "data": {
      "text/html": [
       "<div>\n",
       "<style>\n",
       "    .dataframe thead tr:only-child th {\n",
       "        text-align: right;\n",
       "    }\n",
       "\n",
       "    .dataframe thead th {\n",
       "        text-align: left;\n",
       "    }\n",
       "\n",
       "    .dataframe tbody tr th {\n",
       "        vertical-align: top;\n",
       "    }\n",
       "</style>\n",
       "<table border=\"1\" class=\"dataframe\">\n",
       "  <thead>\n",
       "    <tr style=\"text-align: right;\">\n",
       "      <th></th>\n",
       "      <th>State/ UT Name</th>\n",
       "    </tr>\n",
       "  </thead>\n",
       "  <tbody>\n",
       "    <tr>\n",
       "      <th>26</th>\n",
       "      <td>Uttar Pradesh</td>\n",
       "    </tr>\n",
       "  </tbody>\n",
       "</table>\n",
       "</div>"
      ],
      "text/plain": [
       "   State/ UT Name\n",
       "26  Uttar Pradesh"
      ]
     },
     "execution_count": 124,
     "metadata": {},
     "output_type": "execute_result"
    }
   ],
   "source": [
    "# Which state has produced max milk in year 2013-14?\n",
    "\n",
    "dfm = milk[['Cow Milk-2013-14','Boffalo Milk-2013-14','Goat Milk-2013-14']]\n",
    "dfm.fillna(0)\n",
    "milk['sum'] = dfm.sum(axis=1)\n",
    "milk[milk[\"sum\"] == milk[\"sum\"].max()][[\"State/ UT Name\"]]"
   ]
  },
  {
   "cell_type": "code",
   "execution_count": 139,
   "metadata": {},
   "outputs": [
    {
     "data": {
      "text/html": [
       "<div>\n",
       "<style>\n",
       "    .dataframe thead tr:only-child th {\n",
       "        text-align: right;\n",
       "    }\n",
       "\n",
       "    .dataframe thead th {\n",
       "        text-align: left;\n",
       "    }\n",
       "\n",
       "    .dataframe tbody tr th {\n",
       "        vertical-align: top;\n",
       "    }\n",
       "</style>\n",
       "<table border=\"1\" class=\"dataframe\">\n",
       "  <thead>\n",
       "    <tr style=\"text-align: right;\">\n",
       "      <th></th>\n",
       "      <th>State/ UT Name</th>\n",
       "    </tr>\n",
       "  </thead>\n",
       "  <tbody>\n",
       "    <tr>\n",
       "      <th>31</th>\n",
       "      <td>Uttar Pradesh</td>\n",
       "    </tr>\n",
       "    <tr>\n",
       "      <th>23</th>\n",
       "      <td>Rajasthan</td>\n",
       "    </tr>\n",
       "    <tr>\n",
       "      <th>0</th>\n",
       "      <td>Andhra Pradesh</td>\n",
       "    </tr>\n",
       "    <tr>\n",
       "      <th>8</th>\n",
       "      <td>Gujarat</td>\n",
       "    </tr>\n",
       "    <tr>\n",
       "      <th>22</th>\n",
       "      <td>Punjab</td>\n",
       "    </tr>\n",
       "  </tbody>\n",
       "</table>\n",
       "</div>"
      ],
      "text/plain": [
       "    State/ UT Name\n",
       "31   Uttar Pradesh\n",
       "23       Rajasthan\n",
       "0   Andhra Pradesh\n",
       "8          Gujarat\n",
       "22          Punjab"
      ]
     },
     "execution_count": 139,
     "metadata": {},
     "output_type": "execute_result"
    }
   ],
   "source": [
    "# List top 5 milk producing states in each year from 2010 to 2015\n",
    "\n",
    "dfm = milk.iloc[:,2:]\n",
    "dfm.fillna(0)\n",
    "dfm['sum'] = dfm.sum(axis=1)\n",
    "result = pd.merge(dfm, milk, on='Cow Milk-2013-14')\n",
    "result.sort_values(\"sum_y\", axis = 0, ascending = False)[['State/ UT Name']].head()"
   ]
  },
  {
   "cell_type": "code",
   "execution_count": 150,
   "metadata": {},
   "outputs": [
    {
     "data": {
      "text/plain": [
       "Cow Milk-2010-11         5032.0\n",
       "Cow Milk-2011-12         4972.0\n",
       "Cow Milk-2013-14         5112.0\n",
       "Cow Milk-2014-15         6126.0\n",
       "Cow Milk-2015-16         6630.0\n",
       "Boffalo Milk-2010-11     6611.0\n",
       "Boffalo Milk-2011-12     6901.0\n",
       "Boffalo Milk-2013-14     7681.0\n",
       "Boffalo Milk-2014-15     8985.0\n",
       "Boffalo Milk-2015-16     9937.0\n",
       "Goat Milk-2010-11        1590.0\n",
       "Goat Milk-2011-12        1641.0\n",
       "Goat Milk-2013-14        1780.0\n",
       "Goat Milk-2014-15        1823.0\n",
       "Goat Milk-2015-16        1933.0\n",
       "sum                     14573.0\n",
       "dtype: float64"
      ]
     },
     "execution_count": 150,
     "metadata": {},
     "output_type": "execute_result"
    }
   ],
   "source": [
    "# Calculate average milk production by cow, buffalo and goat in each year for selected state.\n",
    "dfr = milk.loc[milk['State/ UT Name'] == \"Rajasthan\"]\n",
    "dfmm = dfr.iloc[:,2:]\n",
    "dfmm.fillna(0)\n",
    "dfmm.mean(axis=0)"
   ]
  },
  {
   "cell_type": "code",
   "execution_count": null,
   "metadata": {
    "collapsed": true
   },
   "outputs": [],
   "source": [
    "# List 5 states (if present) whose total milk production is increased for last three years.\n",
    "\n"
   ]
  },
  {
   "cell_type": "code",
   "execution_count": 155,
   "metadata": {},
   "outputs": [
    {
     "data": {
      "text/plain": [
       "array([[  5032.,   4972.,   5112.,   6126.,   6630.,   6611.,   6901.,\n",
       "          7681.,   8985.,   9937.,   1590.,   1641.,   1780.,   1823.,\n",
       "          1933.,  14573.]])"
      ]
     },
     "execution_count": 155,
     "metadata": {},
     "output_type": "execute_result"
    }
   ],
   "source": [
    "# Draw line graph showing total milk production for last 5 years of selected state\n",
    "\n",
    "dfr = milk.loc[milk['State/ UT Name'] == \"Rajasthan\"]\n",
    "dfmm = dfr.iloc[:,2:].values\n",
    "dfmm\n",
    "x = [5032.,   4972.,   5112.,   6126.,   6630.,   6611.,   6901.,7681.,   8985.,   9937.,   1590.,   1641.,   1780.,   1823.,1933.,  14573.]\n"
   ]
  },
  {
   "cell_type": "code",
   "execution_count": null,
   "metadata": {
    "collapsed": true
   },
   "outputs": [],
   "source": []
  }
 ],
 "metadata": {
  "kernelspec": {
   "display_name": "Python 3",
   "language": "python",
   "name": "python3"
  },
  "language_info": {
   "codemirror_mode": {
    "name": "ipython",
    "version": 3
   },
   "file_extension": ".py",
   "mimetype": "text/x-python",
   "name": "python",
   "nbconvert_exporter": "python",
   "pygments_lexer": "ipython3",
   "version": "3.6.3"
  }
 },
 "nbformat": 4,
 "nbformat_minor": 2
}
